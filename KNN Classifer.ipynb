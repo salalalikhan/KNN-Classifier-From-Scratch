{
 "cells": [
  {
   "cell_type": "code",
   "execution_count": 2,
   "metadata": {},
   "outputs": [],
   "source": [
    "### SALAL ALI KHAN(202307216)\n",
    "\n",
    "from sklearn.datasets import make_classification\n",
    "from sklearn.model_selection import train_test_split\n",
    "from sklearn.metrics import accuracy_score\n",
    "import numpy as np\n",
    "from tabulate import tabulate"
   ]
  },
  {
   "cell_type": "code",
   "execution_count": 3,
   "metadata": {},
   "outputs": [],
   "source": [
    "def euclidean_distance(x1, x2):\n",
    "    return np.sqrt(np.sum((x1 - x2) ** 2))\n",
    "\n",
    "def manhattan_distance(x1, x2):\n",
    "    return np.sum(np.abs(x1 - x2))"
   ]
  },
  {
   "cell_type": "code",
   "execution_count": 4,
   "metadata": {},
   "outputs": [],
   "source": [
    "class KNN:\n",
    "    def __init__(self, k=3, distance='euclidean'):\n",
    "        self.k = k\n",
    "        self.distance = distance\n",
    "\n",
    "    def fit(self, X, y):\n",
    "        self.X_train = X\n",
    "        self.y_train = y\n",
    "\n",
    "    def predict(self, X):\n",
    "        return np.array([self._predict(x) for x in X])\n",
    "\n",
    "    def _predict(self, x):\n",
    "        if self.distance == 'euclidean':\n",
    "            distances = [euclidean_distance(x, x_train) for x_train in self.X_train]\n",
    "        elif self.distance == 'manhattan':\n",
    "            distances = [manhattan_distance(x, x_train) for x_train in self.X_train]\n",
    "        else:\n",
    "            raise ValueError(\"Invalid distance measure. Choose 'euclidean' or 'manhattan'.\")\n",
    "        \n",
    "        k_indices = np.argsort(distances)[:self.k]\n",
    "        k_nearest_labels = [self.y_train[i] for i in k_indices]\n",
    "        return max(set(k_nearest_labels), key=k_nearest_labels.count)\n"
   ]
  },
  {
   "cell_type": "code",
   "execution_count": 5,
   "metadata": {},
   "outputs": [
    {
     "name": "stdout",
     "output_type": "stream",
     "text": [
      "Classes: [0 1 2]\n"
     ]
    }
   ],
   "source": [
    "# Generating dataset\n",
    "X, y = make_classification(n_samples=500, n_features=5, n_classes=3, n_clusters_per_class=1, random_state=42)\n",
    "\n",
    "# Printing the classes\n",
    "unique_classes = np.unique(y)\n",
    "print(\"Classes:\", unique_classes)\n",
    "\n",
    "# Splitting the dataset\n",
    "X_train, X_test, y_train, y_test = train_test_split(X, y, test_size=0.2, random_state=42)\n"
   ]
  },
  {
   "cell_type": "code",
   "execution_count": 6,
   "metadata": {},
   "outputs": [
    {
     "name": "stdout",
     "output_type": "stream",
     "text": [
      "Neighborhood Size (k):  3\n",
      "Distance Measure:       euclidean\n",
      "Accuracy:               0.9500\n",
      "Predictions:            [1 2 0 0 1 1 0 1 0 0 2 1 2 1 2 1 2 2 1 0 0 2 0 2 0 1 2 2 1 2 0 1 0 0 2 2 1\n",
      "                         2 0 0 1 2 1 1 1 1 1 1 1 1 2 0 1 1 2 2 0 0 2 1 1 0 0 1 2 2 1 1 2 1 1 1 0 0\n",
      "                         1 1 0 0 0 0 2 1 1 1 1 2 2 2 0 2 1 1 0 1 0 2 1 2 1 1]\n",
      "\n",
      "Neighborhood Size (k):  3\n",
      "Distance Measure:       manhattan\n",
      "Accuracy:               0.9500\n",
      "Predictions:            [1 2 0 0 1 1 0 1 0 0 2 1 2 1 2 1 2 2 1 0 0 2 0 2 0 1 2 2 1 2 0 1 0 0 2 2 1\n",
      "                         2 0 0 1 2 1 1 1 1 1 0 1 1 2 0 1 1 2 2 0 0 2 1 1 0 0 1 2 2 1 1 2 0 1 1 0 0\n",
      "                         0 1 0 0 0 0 2 1 1 1 1 2 2 2 0 2 1 1 2 1 0 2 1 2 1 1]\n",
      "\n",
      "Neighborhood Size (k):  5\n",
      "Distance Measure:       euclidean\n",
      "Accuracy:               0.9300\n",
      "Predictions:            [1 2 0 0 1 1 0 1 0 0 2 1 2 1 2 1 2 2 1 0 0 2 0 2 0 1 2 2 1 2 0 1 0 0 2 2 1\n",
      "                         2 0 0 1 2 1 1 1 1 1 1 1 1 2 0 1 1 2 2 0 0 2 1 1 0 0 1 2 2 1 1 2 1 1 1 0 0\n",
      "                         0 1 0 0 0 0 2 1 1 1 1 2 2 2 0 2 1 1 2 1 0 2 1 2 1 1]\n",
      "\n",
      "Neighborhood Size (k):  5\n",
      "Distance Measure:       manhattan\n",
      "Accuracy:               0.9400\n",
      "Predictions:            [1 2 0 0 1 1 0 1 0 0 2 1 2 1 2 1 2 2 1 0 0 2 0 2 0 1 2 2 1 2 0 1 0 0 2 2 1\n",
      "                         2 0 0 1 2 1 1 1 1 1 1 1 1 2 0 1 1 2 2 0 0 2 1 1 0 0 1 2 2 1 1 2 0 1 1 0 0\n",
      "                         0 1 0 0 0 0 2 1 1 1 1 2 2 2 0 2 1 1 2 1 0 2 1 2 1 1]\n",
      "\n"
     ]
    }
   ],
   "source": [
    "# KNN with different distance measures and neighborhood sizes\n",
    "k_values = [3, 5]\n",
    "distance_measures = ['euclidean', 'manhattan']\n",
    "\n",
    "for k in k_values:\n",
    "    for distance in distance_measures:\n",
    "        knn = KNN(k=k, distance=distance)\n",
    "        knn.fit(X_train, y_train)\n",
    "        predictions = knn.predict(X_test)\n",
    "        accuracy = accuracy_score(y_test, predictions)\n",
    "\n",
    "        results = []\n",
    "        results.append([\"Neighborhood Size (k):\", k])\n",
    "        results.append([\"Distance Measure:\", distance])\n",
    "        results.append([\"Accuracy:\", f\"{accuracy:.4f}\"])\n",
    "        results.append([\"Predictions:\"] + [predictions])\n",
    "\n",
    "        print(tabulate(results, tablefmt=\"plain\"))\n",
    "        print()\n"
   ]
  }
 ],
 "metadata": {
  "kernelspec": {
   "display_name": "base",
   "language": "python",
   "name": "python3"
  },
  "language_info": {
   "codemirror_mode": {
    "name": "ipython",
    "version": 3
   },
   "file_extension": ".py",
   "mimetype": "text/x-python",
   "name": "python",
   "nbconvert_exporter": "python",
   "pygments_lexer": "ipython3",
   "version": "3.11.5"
  }
 },
 "nbformat": 4,
 "nbformat_minor": 2
}
